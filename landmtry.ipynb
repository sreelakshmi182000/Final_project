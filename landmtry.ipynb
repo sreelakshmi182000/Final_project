{
  "nbformat": 4,
  "nbformat_minor": 0,
  "metadata": {
    "colab": {
      "name": "landmtry.ipynb",
      "provenance": [],
      "collapsed_sections": [],
      "include_colab_link": true
    },
    "kernelspec": {
      "name": "python3",
      "display_name": "Python 3"
    },
    "language_info": {
      "name": "python"
    },
    "accelerator": "GPU"
  },
  "cells": [
    {
      "cell_type": "markdown",
      "metadata": {
        "id": "view-in-github",
        "colab_type": "text"
      },
      "source": [
        "<a href=\"https://colab.research.google.com/github/sreelakshmi182000/Group24/blob/main/landmtry.ipynb\" target=\"_parent\"><img src=\"https://colab.research.google.com/assets/colab-badge.svg\" alt=\"Open In Colab\"/></a>"
      ]
    },
    {
      "cell_type": "code",
      "metadata": {
        "id": "FgW8RD48kMQo",
        "colab": {
          "base_uri": "https://localhost:8080/"
        },
        "outputId": "926362f8-72ec-422f-f639-2d73b1e7b296"
      },
      "source": [
        "pip install stasm\n"
      ],
      "execution_count": null,
      "outputs": [
        {
          "output_type": "stream",
          "text": [
            "Collecting stasm\n",
            "\u001b[?25l  Downloading https://files.pythonhosted.org/packages/32/f5/3d7cecf2b85bb56bf621e434217f62f814c163c938aa199c7db64b6594ee/stasm-2.0.2.tar.gz (688kB)\n",
            "\r\u001b[K     |▌                               | 10kB 21.0MB/s eta 0:00:01\r\u001b[K     |█                               | 20kB 28.3MB/s eta 0:00:01\r\u001b[K     |█▍                              | 30kB 24.3MB/s eta 0:00:01\r\u001b[K     |██                              | 40kB 20.6MB/s eta 0:00:01\r\u001b[K     |██▍                             | 51kB 21.4MB/s eta 0:00:01\r\u001b[K     |██▉                             | 61kB 15.0MB/s eta 0:00:01\r\u001b[K     |███▎                            | 71kB 16.3MB/s eta 0:00:01\r\u001b[K     |███▉                            | 81kB 17.0MB/s eta 0:00:01\r\u001b[K     |████▎                           | 92kB 15.1MB/s eta 0:00:01\r\u001b[K     |████▊                           | 102kB 16.2MB/s eta 0:00:01\r\u001b[K     |█████▎                          | 112kB 16.2MB/s eta 0:00:01\r\u001b[K     |█████▊                          | 122kB 16.2MB/s eta 0:00:01\r\u001b[K     |██████▏                         | 133kB 16.2MB/s eta 0:00:01\r\u001b[K     |██████▋                         | 143kB 16.2MB/s eta 0:00:01\r\u001b[K     |███████▏                        | 153kB 16.2MB/s eta 0:00:01\r\u001b[K     |███████▋                        | 163kB 16.2MB/s eta 0:00:01\r\u001b[K     |████████                        | 174kB 16.2MB/s eta 0:00:01\r\u001b[K     |████████▋                       | 184kB 16.2MB/s eta 0:00:01\r\u001b[K     |█████████                       | 194kB 16.2MB/s eta 0:00:01\r\u001b[K     |█████████▌                      | 204kB 16.2MB/s eta 0:00:01\r\u001b[K     |██████████                      | 215kB 16.2MB/s eta 0:00:01\r\u001b[K     |██████████▌                     | 225kB 16.2MB/s eta 0:00:01\r\u001b[K     |███████████                     | 235kB 16.2MB/s eta 0:00:01\r\u001b[K     |███████████▍                    | 245kB 16.2MB/s eta 0:00:01\r\u001b[K     |████████████                    | 256kB 16.2MB/s eta 0:00:01\r\u001b[K     |████████████▍                   | 266kB 16.2MB/s eta 0:00:01\r\u001b[K     |████████████▉                   | 276kB 16.2MB/s eta 0:00:01\r\u001b[K     |█████████████▎                  | 286kB 16.2MB/s eta 0:00:01\r\u001b[K     |█████████████▉                  | 296kB 16.2MB/s eta 0:00:01\r\u001b[K     |██████████████▎                 | 307kB 16.2MB/s eta 0:00:01\r\u001b[K     |██████████████▊                 | 317kB 16.2MB/s eta 0:00:01\r\u001b[K     |███████████████▎                | 327kB 16.2MB/s eta 0:00:01\r\u001b[K     |███████████████▊                | 337kB 16.2MB/s eta 0:00:01\r\u001b[K     |████████████████▏               | 348kB 16.2MB/s eta 0:00:01\r\u001b[K     |████████████████▋               | 358kB 16.2MB/s eta 0:00:01\r\u001b[K     |█████████████████▏              | 368kB 16.2MB/s eta 0:00:01\r\u001b[K     |█████████████████▋              | 378kB 16.2MB/s eta 0:00:01\r\u001b[K     |██████████████████              | 389kB 16.2MB/s eta 0:00:01\r\u001b[K     |██████████████████▋             | 399kB 16.2MB/s eta 0:00:01\r\u001b[K     |███████████████████             | 409kB 16.2MB/s eta 0:00:01\r\u001b[K     |███████████████████▌            | 419kB 16.2MB/s eta 0:00:01\r\u001b[K     |████████████████████            | 430kB 16.2MB/s eta 0:00:01\r\u001b[K     |████████████████████▌           | 440kB 16.2MB/s eta 0:00:01\r\u001b[K     |█████████████████████           | 450kB 16.2MB/s eta 0:00:01\r\u001b[K     |█████████████████████▍          | 460kB 16.2MB/s eta 0:00:01\r\u001b[K     |██████████████████████          | 471kB 16.2MB/s eta 0:00:01\r\u001b[K     |██████████████████████▍         | 481kB 16.2MB/s eta 0:00:01\r\u001b[K     |██████████████████████▉         | 491kB 16.2MB/s eta 0:00:01\r\u001b[K     |███████████████████████▎        | 501kB 16.2MB/s eta 0:00:01\r\u001b[K     |███████████████████████▉        | 512kB 16.2MB/s eta 0:00:01\r\u001b[K     |████████████████████████▎       | 522kB 16.2MB/s eta 0:00:01\r\u001b[K     |████████████████████████▊       | 532kB 16.2MB/s eta 0:00:01\r\u001b[K     |█████████████████████████▎      | 542kB 16.2MB/s eta 0:00:01\r\u001b[K     |█████████████████████████▊      | 552kB 16.2MB/s eta 0:00:01\r\u001b[K     |██████████████████████████▏     | 563kB 16.2MB/s eta 0:00:01\r\u001b[K     |██████████████████████████▋     | 573kB 16.2MB/s eta 0:00:01\r\u001b[K     |███████████████████████████▏    | 583kB 16.2MB/s eta 0:00:01\r\u001b[K     |███████████████████████████▋    | 593kB 16.2MB/s eta 0:00:01\r\u001b[K     |████████████████████████████    | 604kB 16.2MB/s eta 0:00:01\r\u001b[K     |████████████████████████████▋   | 614kB 16.2MB/s eta 0:00:01\r\u001b[K     |█████████████████████████████   | 624kB 16.2MB/s eta 0:00:01\r\u001b[K     |█████████████████████████████▌  | 634kB 16.2MB/s eta 0:00:01\r\u001b[K     |██████████████████████████████  | 645kB 16.2MB/s eta 0:00:01\r\u001b[K     |██████████████████████████████▌ | 655kB 16.2MB/s eta 0:00:01\r\u001b[K     |███████████████████████████████ | 665kB 16.2MB/s eta 0:00:01\r\u001b[K     |███████████████████████████████▍| 675kB 16.2MB/s eta 0:00:01\r\u001b[K     |████████████████████████████████| 686kB 16.2MB/s eta 0:00:01\r\u001b[K     |████████████████████████████████| 696kB 16.2MB/s \n",
            "\u001b[?25hRequirement already satisfied: numpy>=1.10 in /usr/local/lib/python3.7/dist-packages (from stasm) (1.19.5)\n",
            "Building wheels for collected packages: stasm\n",
            "  Building wheel for stasm (setup.py) ... \u001b[?25l\u001b[?25hdone\n",
            "  Created wheel for stasm: filename=stasm-2.0.2-cp37-cp37m-linux_x86_64.whl size=4282884 sha256=e6cf622b58e07a9c89437289ba1e8b8ffe50f528c8b934d17f6588f466fb8dbe\n",
            "  Stored in directory: /root/.cache/pip/wheels/ce/d7/40/ce16884c9c3aa9a9b9e6e34e01047ebd874251800552f1d07f\n",
            "Successfully built stasm\n",
            "Installing collected packages: stasm\n",
            "Successfully installed stasm-2.0.2\n"
          ],
          "name": "stdout"
        }
      ]
    },
    {
      "cell_type": "code",
      "metadata": {
        "id": "NQjkKXq9RRZk"
      },
      "source": [
        "import cv2\n",
        "import stasm\n",
        "from matplotlib import pyplot as plt\n",
        "%matplotlib inline"
      ],
      "execution_count": null,
      "outputs": []
    },
    {
      "cell_type": "code",
      "metadata": {
        "colab": {
          "base_uri": "https://localhost:8080/",
          "height": 195
        },
        "id": "oGuNIWcwl0qW",
        "outputId": "5a9393a4-4ee0-43ea-9fa4-9c2f17781edb"
      },
      "source": [
        "img=cv2.imread('/content/drive/MyDrive/man1.jpg',cv2.IMREAD_GRAYSCALE)\n",
        "landmarks=stasm.search_single(img)\n",
        "print(len(landmarks))"
      ],
      "execution_count": null,
      "outputs": [
        {
          "output_type": "error",
          "ename": "TypeError",
          "evalue": "ignored",
          "traceback": [
            "\u001b[0;31m---------------------------------------------------------------------------\u001b[0m",
            "\u001b[0;31mTypeError\u001b[0m                                 Traceback (most recent call last)",
            "\u001b[0;32m<ipython-input-3-74e4bccbf2b6>\u001b[0m in \u001b[0;36m<module>\u001b[0;34m()\u001b[0m\n\u001b[1;32m      1\u001b[0m \u001b[0mimg\u001b[0m\u001b[0;34m=\u001b[0m\u001b[0mcv2\u001b[0m\u001b[0;34m.\u001b[0m\u001b[0mimread\u001b[0m\u001b[0;34m(\u001b[0m\u001b[0;34m'/content/drive/MyDrive/man1.jpg'\u001b[0m\u001b[0;34m,\u001b[0m\u001b[0mcv2\u001b[0m\u001b[0;34m.\u001b[0m\u001b[0mIMREAD_GRAYSCALE\u001b[0m\u001b[0;34m)\u001b[0m\u001b[0;34m\u001b[0m\u001b[0;34m\u001b[0m\u001b[0m\n\u001b[0;32m----> 2\u001b[0;31m \u001b[0mlandmarks\u001b[0m\u001b[0;34m=\u001b[0m\u001b[0mstasm\u001b[0m\u001b[0;34m.\u001b[0m\u001b[0msearch_single\u001b[0m\u001b[0;34m(\u001b[0m\u001b[0mimg\u001b[0m\u001b[0;34m)\u001b[0m\u001b[0;34m\u001b[0m\u001b[0;34m\u001b[0m\u001b[0m\n\u001b[0m\u001b[1;32m      3\u001b[0m \u001b[0mprint\u001b[0m\u001b[0;34m(\u001b[0m\u001b[0mlen\u001b[0m\u001b[0;34m(\u001b[0m\u001b[0mlandmarks\u001b[0m\u001b[0;34m)\u001b[0m\u001b[0;34m)\u001b[0m\u001b[0;34m\u001b[0m\u001b[0;34m\u001b[0m\u001b[0m\n",
            "\u001b[0;31mTypeError\u001b[0m: Invalid image array."
          ]
        }
      ]
    },
    {
      "cell_type": "code",
      "metadata": {
        "id": "VQWAmg4Cna0A"
      },
      "source": [
        "fig=plt.figure(figsize=(12,12))\n",
        "ax1=fig.add_subplot(1,2,1)\n",
        "ax1.imshow(img,cmap='gray')\n",
        "for point in landmarks:\n",
        "  cv2.circle(img,(point[0],point[1]),1,\t(255,255,255),-1)              #img,center,radius,color,thickness\n",
        "ax2=fig.add_subplot(1,2,2)\n",
        "ax2.imshow(img,cmap='gray')  \n"
      ],
      "execution_count": null,
      "outputs": []
    },
    {
      "cell_type": "code",
      "metadata": {
        "id": "U35x9EseIGnm"
      },
      "source": [
        "print(landmarks)"
      ],
      "execution_count": null,
      "outputs": []
    },
    {
      "cell_type": "code",
      "metadata": {
        "id": "eMRIZ4l6L4_X"
      },
      "source": [
        "'''for point in landmarks:\n",
        "  cv2.circle(img,(point[0],point[1]),5,(0,0,255),-1)'''"
      ],
      "execution_count": null,
      "outputs": []
    },
    {
      "cell_type": "code",
      "metadata": {
        "id": "2NpaESHdfLOV"
      },
      "source": [
        "'''from skimage.color import rgb2gray\n",
        "import numpy as np\n",
        "import cv2\n",
        "import matplotlib.pyplot as plt\n",
        "%matplotlib inline\n",
        "from scipy import ndimage'''"
      ],
      "execution_count": null,
      "outputs": []
    },
    {
      "cell_type": "code",
      "metadata": {
        "id": "EqqTjJGIeqgI"
      },
      "source": [
        "'''gray = img\n",
        "plt.imshow(gray,cmap='gray')'''"
      ],
      "execution_count": null,
      "outputs": []
    },
    {
      "cell_type": "code",
      "metadata": {
        "id": "Lx7RMLKufcUd"
      },
      "source": [
        "'''gray = rgb2gray(img)\n",
        "gray_r = gray.reshape(gray.shape[0]*gray.shape[1])\n",
        "for i in range(gray_r.shape[0]):\n",
        "    if gray_r[i] > gray_r.mean():\n",
        "        gray_r[i] = 3\n",
        "    elif gray_r[i] > 0.5:\n",
        "        gray_r[i] = 2\n",
        "    elif gray_r[i] > 0.25:\n",
        "        gray_r[i] = 1\n",
        "    else:\n",
        "        gray_r[i] = 0\n",
        "gray = gray_r.reshape(gray.shape[0],gray.shape[1])\n",
        "plt.imshow(gray, cmap='gray')'''"
      ],
      "execution_count": null,
      "outputs": []
    },
    {
      "cell_type": "code",
      "metadata": {
        "id": "hdJE8gaGfcXl"
      },
      "source": [
        ""
      ],
      "execution_count": null,
      "outputs": []
    },
    {
      "cell_type": "code",
      "metadata": {
        "id": "E48FQ2Vjfcak"
      },
      "source": [
        ""
      ],
      "execution_count": null,
      "outputs": []
    }
  ]
}